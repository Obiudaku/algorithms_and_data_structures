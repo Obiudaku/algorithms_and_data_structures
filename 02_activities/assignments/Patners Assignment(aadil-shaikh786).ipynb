{
 "cells": [
  {
   "cell_type": "markdown",
   "metadata": {},
   "source": [
    "Problem Description:\n",
    "\n",
    "You are given the root of a binary tree. Your task is to find and return all paths from the root to the leaf nodes. \n",
    "\n",
    "The paths should be returned as a collection of arrays, where each array represents a single path from root to leaf."
   ]
  },
  {
   "cell_type": "markdown",
   "metadata": {},
   "source": [
    "Let’s walk through the example step by step:\n",
    "\n",
    "Input:\n",
    "Binary tree represented as an array: root = [1, 2, 3, 4, 5].\n",
    "Output:\n",
    "Paths from root to leaves: [[1, 2, 4], [1, 2, 5], [1, 3]].\n",
    "\n",
    "Step-by-step Walkthrough\n",
    "1. Represent the Tree Structure:\n",
    "The given array [1, 2, 3, 4, 5] corresponds to a binary tree in level-order traversal:\n",
    "\n",
    "                    1\n",
    "                   / \\\n",
    "                  2   3\n",
    "                 / \\\n",
    "                4   5\n",
    "1 is the root.\n",
    "2 is the left child of 1, and 3 is the right child of 1.\n",
    "4 and 5 are the left and right children of 2, respectively.\n",
    "\n",
    "Objective: \n",
    "Find all paths from the root node (1) to the leaf nodes (4, 5, and 3).\n",
    "\n",
    "Path Construction:\n",
    "Path 1: From root to leaf 4\n",
    "\n",
    "Start at root: 1.\n",
    "Move to left child: 2.\n",
    "Move to left child of 2: 4.\n",
    "Path: [1, 2, 4].\n",
    "Path 2: From root to leaf 5\n",
    "\n",
    "Start at root: 1.\n",
    "Move to left child: 2.\n",
    "Move to right child of 2: 5.\n",
    "Path: [1, 2, 5].\n",
    "Path 3: From root to leaf 3\n",
    "\n",
    "Start at root: 1.\n",
    "Move to right child: 3.\n",
    "Path: [1, 3].\n",
    "\n",
    "Final Output:\n",
    "Combining all root-to-leaf paths gives:\n",
    "[[1, 2, 4], [1, 2, 5], [1, 3]]."
   ]
  },
  {
   "cell_type": "code",
   "execution_count": 2,
   "metadata": {},
   "outputs": [],
   "source": [
    "# Definition for a binary tree node.\n",
    "class TreeNode:\n",
    "    def __init__(self, val=0, left=None, right=None):\n",
    "        # Initializing the tree node\n",
    "        self.val = val\n",
    "        self.left = left\n",
    "        self.right = right\n",
    "\n",
    "# finding all paths from roots to leaves\n",
    "def bt_path(root: TreeNode) -> list[list[int]]:\n",
    "    # helper function for dfs\n",
    "    def dfs(node, path, result):\n",
    "        # if reached end of path then return\n",
    "        if not node:\n",
    "            return\n",
    "        # addind current's node value to the current path\n",
    "        path.append(node.val)\n",
    "        # if it is a leaf node (no L or R children)\n",
    "        if not node.left and not node.right:\n",
    "            # add current -> result\n",
    "            result.append(list(path))\n",
    "        else:\n",
    "            # explore L and R subtrees recursively\n",
    "            dfs(node.left, path, result)\n",
    "            dfs(node.right, path, result)\n",
    "        # backtrack\n",
    "        path.pop()\n",
    "    \n",
    "    # store all root to leaf paths\n",
    "    result = []\n",
    "    # helper fn to start dfs frm root node\n",
    "    dfs(root, [], result)\n",
    "    # return list of all paths frm root to leaves\n",
    "    return result"
   ]
  },
  {
   "cell_type": "markdown",
   "metadata": {},
   "source": [
    "This solution works because it systematically explores each path in the binary tree using DFS, tracks the current path, and records complete paths when leaf nodes are reached. \n",
    "The combination of recursion, path tracking, and backtracking ensures that all possible paths from the root to the leaves are captured accurately."
   ]
  },
  {
   "cell_type": "markdown",
   "metadata": {},
   "source": [
    "Critique of the Solution\n",
    "The solution is well-written and effectively implements a Depth-First Search (DFS) to find all root-to-leaf paths in a binary tree. However, some aspects can be improved or clarified for better readability, maintainability, and efficiency.\n",
    "\n",
    "Strengths of the Solution\n",
    "1. Correct Logic: The solution correctly identifies and appends all paths from the root to the leaves using a recursive DFS approach.\n",
    "\n",
    "2. Readable Code: The code is clear and easy to follow, with logical separation between the main function (bt_path) and the helper function (dfs).\n",
    "\n",
    "3. Time Complexity: The solution visits each node once, achieving optimal O(N) time complexity, where N is the number of nodes.\n",
    "\n",
    "4. Space Efficiency: The backtracking mechanism avoids creating new lists for each recursive call, minimizing memory usage.\n",
    "\n",
    "Areas for Improvement\n",
    "1. Comments and Documentation:\n",
    "While there are some comments in the code, they could be more detailed to enhance understanding, especially for readers who might not be familiar with DFS or backtracking.\n",
    "\n",
    "2. Edge Case Handling:\n",
    "The solution handles an empty tree (where root is None) gracefully by returning an empty list, but this could be explicitly mentioned in the comments or documentation.\n",
    "\n",
    "3. Variable Naming:\n",
    "Consider using more descriptive variable names if possible. For example, result could be named all_paths to clearly indicate its purpose.\n",
    "\n",
    "\n",
    "\n"
   ]
  },
  {
   "cell_type": "markdown",
   "metadata": {},
   "source": [
    "REFLECTION\n"
   ]
  },
  {
   "cell_type": "markdown",
   "metadata": {},
   "source": [
    "In Assignment 1, I worked on the problem of finding missing numbers in a given range [0, n]. My approach involved first identifying unique numbers in the input list and then comparing them against the full range of numbers. Using set operations, I efficiently computed the missing numbers. \n",
    "\n",
    "Additionally, I accounted for edge cases, such as when there were no missing numbers (returning -1) or when duplicate numbers were present in the input. This problem reinforced my understanding of set operations and time complexity considerations, particularly when working with large datasets.\n",
    "\n",
    "For the Question Two: Path to Leaves assignment, my partner(aadil-shaikh786) presented their solution for finding all root-to-leaf paths in a binary tree. Their approach used Depth-First Search (DFS) with recursion, which was efficient and well-structured. During the review, I identified areas for improvement, such as handling edge cases explicitly (e.g., an empty tree) and optimizing path copying with path.copy() instead of list(path). \n",
    "These suggestions were positively received and incorporated, improving the robustness and readability of the solution.\n",
    "\n",
    "The collaboration experience was highly beneficial, as it allowed us to exchange feedback constructively and learn from each other’s approaches. This assignment highlighted the importance of communication and iterative refinement in software development."
   ]
  }
 ],
 "metadata": {
  "kernelspec": {
   "display_name": "dsi_participant",
   "language": "python",
   "name": "python3"
  },
  "language_info": {
   "codemirror_mode": {
    "name": "ipython",
    "version": 3
   },
   "file_extension": ".py",
   "mimetype": "text/x-python",
   "name": "python",
   "nbconvert_exporter": "python",
   "pygments_lexer": "ipython3",
   "version": "3.9.19"
  }
 },
 "nbformat": 4,
 "nbformat_minor": 2
}
