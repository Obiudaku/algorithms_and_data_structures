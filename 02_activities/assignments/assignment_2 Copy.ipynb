{
 "cells": [
  {
   "cell_type": "markdown",
   "metadata": {},
   "source": [
    "Paraphrasing the problem:\n",
    "Given the root node of a binary tree, we need to find and return all possible paths from the root to each leaf node. Each path should be represented as a list of node values, and all these paths should be collected in a list of lists.\n"
   ]
  },
  {
   "cell_type": "markdown",
   "metadata": {},
   "source": [
    "New Examples\n",
    "\n",
    "Example a\n",
    "\n",
    "Input: root = [4, 2, 7, 1, 3]\n",
    "\n",
    "Output: [[4, 2, 1], [4, 2, 3], [4, 7]]\n",
    "\n",
    "Example b\n",
    "\n",
    "Input: root = [5, 3, 8, 1, 4, None, 9]\n",
    "\n",
    "Output: [[5, 3, 1], [5, 3, 4], [5, 8, 9]]"
   ]
  },
  {
   "cell_type": "code",
   "execution_count": 7,
   "metadata": {},
   "outputs": [],
   "source": [
    "from typing import List  # Import List from the typing module\n",
    "\n",
    "# Definition for a binary tree node.\n",
    "class TreeNode(object):\n",
    "    def __init__(self, val=0, left=None, right=None):\n",
    "        self.val = val\n",
    "        self.left = left\n",
    "        self.right = right\n",
    "\n",
    "def path_to_leaves(root: TreeNode) -> List[List[int]]:\n",
    "    def dfs(node, path, paths):\n",
    "        if not node:\n",
    "            return\n",
    "        path.append(node.val)  # Add the current node's value to the path\n",
    "        \n",
    "        # Check if it's a leaf node\n",
    "        if not node.left and not node.right:\n",
    "            paths.append(path.copy())  # Append a copy of the current path to paths\n",
    "        else:\n",
    "            dfs(node.left, path, paths)  # Traverse left subtree\n",
    "            dfs(node.right, path, paths)  # Traverse right subtree\n",
    "        \n",
    "        path.pop()  # Backtrack to explore other paths\n",
    "\n",
    "    paths = []\n",
    "    dfs(root, [], paths)\n",
    "    return paths\n"
   ]
  },
  {
   "cell_type": "markdown",
   "metadata": {},
   "source": [
    "Explanation of the Solution\n",
    "\n",
    "The solution employs a Depth-First Search (DFS) approach, which is suitable for traversing all paths in a tree. \n",
    "\n",
    "The function dfs is a recursive helper function that:\n",
    "\n",
    "Appends the current node's value to the path.\n",
    "\n",
    "Checks if the current node is a leaf, and if so, adds the path to the list of paths.\n",
    "\n",
    "Recursively explores the left and right children of the current node.\n",
    "\n",
    "Utilizes backtracking by removing the last added node value from the path after exploring its children, allowing the function to explore other branches of the tree correctly."
   ]
  },
  {
   "cell_type": "markdown",
   "metadata": {},
   "source": [
    "Time and Space Complexity\n",
    "\n",
    "Time Complexity: The time complexity of this solution is O(n), where n is the number of nodes in the binary tree. Each node is visited exactly once.\n",
    "\n",
    "Space Complexity: The space complexity is O(h), where h is the height of the tree. \n",
    "\n",
    "This accounts for the space used in the recursion stack during the DFS traversal, as well as the space needed to store the paths."
   ]
  }
 ],
 "metadata": {
  "kernelspec": {
   "display_name": "dsi_participant",
   "language": "python",
   "name": "python3"
  },
  "language_info": {
   "codemirror_mode": {
    "name": "ipython",
    "version": 3
   },
   "file_extension": ".py",
   "mimetype": "text/x-python",
   "name": "python",
   "nbconvert_exporter": "python",
   "pygments_lexer": "ipython3",
   "version": "3.9.19"
  }
 },
 "nbformat": 4,
 "nbformat_minor": 2
}
